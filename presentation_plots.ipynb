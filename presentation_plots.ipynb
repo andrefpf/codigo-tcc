{
 "cells": [
  {
   "cell_type": "code",
   "execution_count": 1,
   "metadata": {},
   "outputs": [],
   "source": [
    "import sys\n",
    "import numpy as np\n",
    "from pathlib import Path\n",
    "from collections import defaultdict\n",
    "\n",
    "from report_blocks import extract_blocks, BlockInfo\n",
    "\n",
    "\n",
    "report_path = Path(\"/home/andre/Documentos/tcc/experiments/reported_blocks_600/\")\n",
    "all_blocks = []\n",
    "\n",
    "pathlist = Path(report_path).glob('Bikes*.json')\n",
    "for path in pathlist:\n",
    "    blocks = extract_blocks(path)\n",
    "    all_blocks.extend(blocks)\n",
    "\n",
    "\n",
    "by_lambda = defaultdict(list)\n",
    "for block in all_blocks:\n",
    "    by_lambda[block.lf_lambda].append(block)\n",
    "\n",
    "light_fields = dict()\n",
    "for lf_lambda, blocks in by_lambda.items():\n",
    "    lf = dict(\n",
    "        mse=np.average([b.mse for b in blocks]),\n",
    "        bpp=np.average([b.bpp for b in blocks]),\n",
    "        lf_lambda=lf_lambda\n",
    "    )\n",
    "    light_fields[lf_lambda] = lf"
   ]
  },
  {
   "cell_type": "code",
   "execution_count": 2,
   "metadata": {},
   "outputs": [],
   "source": [
    "from bisect import bisect\n",
    "\n",
    "def estimate_info(lambda_lf):\n",
    "    lambdas = list(light_fields.keys())\n",
    "    i = bisect(lambdas, lambda_lf)\n",
    "    if i == len(lambdas):\n",
    "        i -= 1\n",
    "    closest_lambda = lambdas[i]\n",
    "    lf = light_fields[closest_lambda]\n",
    "    return lf[\"bpp\"], lf[\"mse\"]"
   ]
  },
  {
   "cell_type": "code",
   "execution_count": 131,
   "metadata": {},
   "outputs": [
    {
     "data": {
      "application/vnd.jupyter.widget-view+json": {
       "model_id": "bcfe30f757f34f42a9aa95dae2d71073",
       "version_major": 2,
       "version_minor": 0
      },
      "text/plain": [
       "interactive(children=(FloatSlider(value=0.02, description='target_rate', max=0.1, min=0.01, step=0.01), IntSli…"
      ]
     },
     "metadata": {},
     "output_type": "display_data"
    },
    {
     "data": {
      "text/plain": [
       "<function __main__.bissection(target_rate=0.02, iterations=2)>"
      ]
     },
     "execution_count": 131,
     "metadata": {},
     "output_type": "execute_result"
    }
   ],
   "source": [
    "from matplotlib.colors import to_rgba\n",
    "import matplotlib.pyplot as plt\n",
    "from ipywidgets import interact\n",
    "plt.rcParams['figure.figsize'] = [5, 3]\n",
    "\n",
    "\n",
    "def bissection(target_rate=0.02, iterations=2):\n",
    "    lambda_start = 1e3\n",
    "    lambda_end = 2e4\n",
    "    data_to_plot = list()\n",
    "\n",
    "    bpp, mse = estimate_info(lambda_start)\n",
    "    data_to_plot.append([lambda_start, bpp, mse])\n",
    "    rate_start = bpp\n",
    "\n",
    "    if iterations >= 2:\n",
    "        bpp, mse = estimate_info(lambda_end)\n",
    "        data_to_plot.append([lambda_end, bpp, mse])\n",
    "        rate_end = bpp\n",
    "\n",
    "    for i in range(2, iterations):\n",
    "        lambda_half = (lambda_start + lambda_end) / 2\n",
    "        bpp, mse = estimate_info(lambda_half)\n",
    "        data_to_plot.append([lambda_half, bpp, mse])\n",
    "        rate_half = bpp\n",
    "\n",
    "        # Keep the last start-end interval to make the plots easier\n",
    "        if i < iterations - 1:\n",
    "            if bpp > target_rate:\n",
    "                lambda_start = lambda_half\n",
    "                rate_start = rate_half\n",
    "            else:\n",
    "                lambda_end = lambda_half\n",
    "                rate_end = rate_half\n",
    "\n",
    "    lambdas = [data[0] for data in data_to_plot]\n",
    "    bpps = [data[1] for data in data_to_plot]\n",
    "    mses = [data[2] for data in data_to_plot]\n",
    "    \n",
    "    plt.axhline(target_rate, color=\"black\", linestyle=\"dashed\", label=\"Taxa alvo\", zorder=1)\n",
    "    plt.scatter(lambdas, bpps, color=\"0.5\")\n",
    "    plt.plot(lambdas, bpps, color=\"0.8\", zorder=0)\n",
    "\n",
    "    text_params = dict(\n",
    "        fontsize=12,\n",
    "        horizontalalignment=\"center\",\n",
    "        # verticalalignment=\"top\",\n",
    "        in_layout=True,\n",
    "        xytext=(10, 7),\n",
    "        textcoords='offset points',\n",
    "    )\n",
    "\n",
    "    if len(lambdas) >= 2:\n",
    "        plt.annotate(r\"$\\lambda^{start}$\", xy=(lambda_start, rate_start), color=\"0.3\", **text_params)\n",
    "\n",
    "        plt.annotate(r\"$\\lambda^{end}$\", xy=(lambda_end, rate_end), color=\"0.3\", **text_params)\n",
    "\n",
    "    if len(lambdas) > 2:\n",
    "        plt.annotate(r\"$\\lambda^{half}$\", xy=(lambda_half, rate_half), color=\"crimson\", **text_params)\n",
    "\n",
    "        plt.scatter(lambda_half, rate_half, zorder=1, color=\"crimson\")\n",
    "    \n",
    "    plt.legend()\n",
    "    plt.xlim(-500, 2e4 + 1000)\n",
    "    plt.ylim(0.008, 0.15)\n",
    "    plt.xticks([])\n",
    "    plt.yticks([])\n",
    "    plt.title(f\"Bisseção - Iteração {iterations}\")\n",
    "    plt.yscale(\"log\")\n",
    "    plt.xlabel(r\"Multiplicador Lagrangiano ($\\lambda$)\")\n",
    "    plt.ylabel(\"Taxa (bpp)\")\n",
    "    # plt.tight_layout()\n",
    "    plt.savefig(f\"figuras/example_iterations/bissection_iteration_{iterations}.png\", dpi=300)\n",
    "    plt.savefig(f\"figuras/example_iterations/bissection_iteration_{iterations}.pdf\")\n",
    "    plt.show()\n",
    "\n",
    "interact(bissection, target_rate=(0.01, 0.1, 0.01), iterations=(1, 10))\n"
   ]
  },
  {
   "cell_type": "code",
   "execution_count": 122,
   "metadata": {},
   "outputs": [
    {
     "data": {
      "image/png": "[encoded data removed]",
      "text/plain": [
       "<Figure size 500x300 with 1 Axes>"
      ]
     },
     "metadata": {},
     "output_type": "display_data"
    }
   ],
   "source": [
    "import matplotlib\n",
    "matplotlib.rcParams[\"mathtext.fontset\"] = \"cm\"\n",
    "\n",
    "\n",
    "equation = r\"$\\lambda^{half} = \\frac{\\lambda^{start} + \\lambda^{end}}{2}$\"\n",
    "plt.axis(\"off\")\n",
    "plt.text(0.5, 0.5, equation, fontsize=30, horizontalalignment=\"center\")\n",
    "plt.savefig(\"figuras/equations/bisection.png\", transparent=True, dpi=300)\n",
    "plt.show()\n"
   ]
  },
  {
   "cell_type": "code",
   "execution_count": 132,
   "metadata": {},
   "outputs": [
    {
     "data": {
      "application/vnd.jupyter.widget-view+json": {
       "model_id": "1391f220f17e49d889fafbdcf4348ff7",
       "version_major": 2,
       "version_minor": 0
      },
      "text/plain": [
       "interactive(children=(FloatSlider(value=0.02, description='target_rate', max=0.1, min=0.01, step=0.01), IntSli…"
      ]
     },
     "metadata": {},
     "output_type": "display_data"
    },
    {
     "data": {
      "text/plain": [
       "<function __main__.hsplit(target_rate=0.02, iterations=2)>"
      ]
     },
     "execution_count": 132,
     "metadata": {},
     "output_type": "execute_result"
    }
   ],
   "source": [
    "import matplotlib.pyplot as plt\n",
    "from matplotlib.colors import to_rgba\n",
    "from ipywidgets import interact\n",
    "plt.rcParams['figure.figsize'] = [5, 3]\n",
    "\n",
    "\n",
    "def hsplit(target_rate=0.02, iterations=2):\n",
    "    lambda_start = 1e3\n",
    "    lambda_end = 2e4\n",
    "    data_to_plot = list()\n",
    "\n",
    "    bpp, mse = estimate_info(lambda_start)\n",
    "    data_to_plot.append([lambda_start, bpp, mse])\n",
    "    rate_start = bpp\n",
    "\n",
    "    if iterations >= 2:\n",
    "        bpp, mse = estimate_info(lambda_end)\n",
    "        data_to_plot.append([lambda_end, bpp, mse])\n",
    "        rate_end = bpp\n",
    "\n",
    "    for i in range(2, iterations):\n",
    "        if rate_start != rate_end:\n",
    "            b = (np.log(lambda_start) - np.log(lambda_end)) / (np.log(rate_start) - np.log(rate_end))\n",
    "            a = lambda_start * rate_start ** (-b)\n",
    "            lambda_half = a * target_rate ** b\n",
    "        else:\n",
    "            lambda_half = (lambda_start + lambda_end) / 2\n",
    "\n",
    "        bpp, mse = estimate_info(lambda_half)\n",
    "        data_to_plot.append([lambda_half, bpp, mse])\n",
    "        rate_half = bpp\n",
    "\n",
    "        if i < iterations - 1:\n",
    "            if bpp > target_rate:\n",
    "                lambda_start = lambda_half\n",
    "                rate_start = rate_half\n",
    "            else:\n",
    "                lambda_end = lambda_half\n",
    "                rate_end = rate_half\n",
    "\n",
    "    lambdas = [data[0] for data in data_to_plot]\n",
    "    bpps = [data[1] for data in data_to_plot]\n",
    "    mses = [data[2] for data in data_to_plot]\n",
    "    \n",
    "    plt.axhline(target_rate, color=\"black\", linestyle=\"dashed\", label=\"Taxa Alvo\", zorder=0)\n",
    "    plt.scatter(lambdas, bpps, color=\"0.5\")\n",
    "    plt.plot(lambdas, bpps, color=\"0.9\", zorder=0)\n",
    "\n",
    "    text_params = dict(\n",
    "        fontsize=12,\n",
    "        horizontalalignment=\"center\",\n",
    "        # verticalalignment=\"top\",\n",
    "        in_layout=True,\n",
    "        xytext=(10, 7),\n",
    "        textcoords='offset points',\n",
    "    )\n",
    "\n",
    "    if len(lambdas) >= 2:\n",
    "        plt.annotate(r\"$\\lambda^{start}$\", xy=(lambda_start, rate_start), color=\"0.3\", **text_params)\n",
    "\n",
    "        plt.annotate(r\"$\\lambda^{end}$\", xy=(lambda_end, rate_end), color=\"0.3\", **text_params)\n",
    "\n",
    "    if len(lambdas) > 2:\n",
    "        plt.annotate(r\"$\\lambda^{half}$\", xy=(lambda_half, rate_half), color=\"crimson\", **text_params)\n",
    "\n",
    "        plt.scatter(lambdas[-1], bpps[-1], color=\"crimson\")\n",
    "\n",
    "        predicted_bpps = np.linspace(rate_start, rate_end)\n",
    "        print(rate_start, rate_end)\n",
    "        predicted_lambdas = a * predicted_bpps ** b\n",
    "        plt.plot(predicted_lambdas, predicted_bpps, \n",
    "                 color=\"crimson\", \n",
    "                 linestyle=\"dotted\",\n",
    "                 label=r\"$\\alpha * R^{\\beta}$\",\n",
    "                 zorder=0,\n",
    "                )\n",
    "\n",
    "    plt.legend()\n",
    "    plt.xlim(-500, 2e4 + 1000)\n",
    "    plt.ylim(0.008, 0.15)\n",
    "    plt.xticks([])\n",
    "    plt.yticks([])\n",
    "    plt.title(f\"H. Split - Codificação {iterations}\")\n",
    "    plt.yscale(\"log\")\n",
    "    plt.xlabel(r\"Multiplicador Lagrangiano ($\\lambda$)\")\n",
    "    plt.ylabel(\"Taxa (bpp)\")\n",
    "    # plt.tight_layout()\n",
    "    plt.savefig(f\"figuras/example_iterations/hsplit_iteration_{iterations}.png\", dpi=300)\n",
    "    plt.savefig(f\"figuras/example_iterations/hsplit_iteration_{iterations}.pdf\")\n",
    "    plt.show()\n",
    "\n",
    "interact(hsplit, target_rate=(0.01, 0.1, 0.01), iterations=(1, 10))"
   ]
  },
  {
   "cell_type": "code",
   "execution_count": 126,
   "metadata": {},
   "outputs": [
    {
     "data": {
      "image/png": "[encoded data removed]",
      "text/plain": [
       "<Figure size 500x300 with 1 Axes>"
      ]
     },
     "metadata": {},
     "output_type": "display_data"
    },
    {
     "data": {
      "image/png": "[encoded data removed]",
      "text/plain": [
       "<Figure size 500x300 with 1 Axes>"
      ]
     },
     "metadata": {},
     "output_type": "display_data"
    },
    {
     "data": {
      "image/png": "[encoded data removed]",
      "text/plain": [
       "<Figure size 500x300 with 1 Axes>"
      ]
     },
     "metadata": {},
     "output_type": "display_data"
    }
   ],
   "source": [
    "import matplotlib\n",
    "matplotlib.rcParams[\"mathtext.fontset\"] = \"cm\"\n",
    "\n",
    "\n",
    "equations = [\n",
    "    r\"$\\lambda^{half} = \\alpha * (R^{target}) ^ {\\beta}$\",\n",
    "\n",
    "    r\"$\\beta = \\frac{log\\left(\\lambda^{start}) - log(\\lambda^{end}\\right)}{log(R^{start}) - log(R^{end})}$\",\n",
    "\n",
    "    r\"$\\alpha = \\lambda^{start} * (R^{start}) ^ {-\\beta}$\",\n",
    "]\n",
    "\n",
    "for i, equation in enumerate(equations):\n",
    "    plt.axis(\"off\")\n",
    "    plt.text(0.5, 0.5, equation, fontsize=30, horizontalalignment=\"center\", usetex=True)\n",
    "    plt.savefig(f\"figuras/equations/hsplit_{i}.png\", transparent=True, dpi=300)\n",
    "    plt.show()\n"
   ]
  },
  {
   "cell_type": "code",
   "execution_count": 142,
   "metadata": {},
   "outputs": [
    {
     "data": {
      "application/vnd.jupyter.widget-view+json": {
       "model_id": "4e00851fddd8431d88d2fd9117313d59",
       "version_major": 2,
       "version_minor": 0
      },
      "text/plain": [
       "interactive(children=(FloatSlider(value=0.02, description='target_rate', max=0.1, min=0.01, step=0.01), IntSli…"
      ]
     },
     "metadata": {},
     "output_type": "display_data"
    },
    {
     "data": {
      "text/plain": [
       "<function __main__.hslope(target_rate=0.02, iterations=1)>"
      ]
     },
     "execution_count": 142,
     "metadata": {},
     "output_type": "execute_result"
    }
   ],
   "source": [
    "import matplotlib.pyplot as plt\n",
    "from ipywidgets import interact\n",
    "plt.rcParams['figure.figsize'] = [5, 3]\n",
    "\n",
    "\n",
    "def hslope(target_rate=0.02, iterations=1):\n",
    "    factor = 1\n",
    "    last_rate = 0\n",
    "    data_to_plot = list()\n",
    "\n",
    "    a = 25\n",
    "    b = -1.3\n",
    "    lambda_ = a * (target_rate ** b)\n",
    "\n",
    "    for i in range(iterations):\n",
    "        bpp, mse = estimate_info(lambda_)\n",
    "        data_to_plot.append([lambda_, bpp, mse])\n",
    "\n",
    "        b = - lambda_ * bpp / mse\n",
    "        a = mse * bpp ** (-b)\n",
    "        lambda_estimative = - a * b * target_rate ** (b - 1)\n",
    "\n",
    "        if np.isclose(lambda_, lambda_estimative):\n",
    "            break\n",
    "\n",
    "        if i > 0:\n",
    "            if bpp < target_rate < last_rate:\n",
    "                factor *= 0.5\n",
    "            elif bpp > target_rate > last_rate:\n",
    "                factor *= 0.5\n",
    "\n",
    "        lambda_ = lambda_estimative * factor + lambda_ * (1 - factor)\n",
    "        last_rate = bpp\n",
    "\n",
    "    print(lambda_)\n",
    "\n",
    "    lambdas = [data[0] for data in data_to_plot]\n",
    "    bpps = [data[1] for data in data_to_plot]\n",
    "    mses = [data[2] for data in data_to_plot]\n",
    "\n",
    "    text_params = dict(\n",
    "        fontsize=12,\n",
    "        horizontalalignment=\"left\",\n",
    "        # verticalalignment=\"top\",\n",
    "        in_layout=True,\n",
    "        xytext=(0, 10),\n",
    "        textcoords='offset points',\n",
    "    )\n",
    "\n",
    "    plt.axhline(target_rate, color=\"black\", linestyle=\"dashed\", label=\"Taxa Alvo\", zorder=0)\n",
    "    plt.scatter(lambdas, bpps, color=\"0.5\")\n",
    "    plt.plot(lambdas, bpps, color=\"0.8\", zorder=0)\n",
    "    plt.scatter(lambdas[-1], bpps[-1], color=\"crimson\")\n",
    "    plt.annotate(r\"$\\lambda^{new}$\", xy=(lambda_, bpp), color=\"crimson\", **text_params)\n",
    "\n",
    "    print(a, b)\n",
    "    if False and len(lambdas) > 1:\n",
    "        predicted_bpps = np.linspace(min(bpps), max(bpps))\n",
    "    else:\n",
    "        predicted_bpps = np.linspace(0.09, 0.01)\n",
    "\n",
    "\n",
    "    predicted_lambdas = - a * b * predicted_bpps ** (b - 1)\n",
    "    plt.plot(predicted_lambdas, predicted_bpps, \n",
    "                color=\"crimson\",\n",
    "            linestyle=\"dotted\",\n",
    "                zorder=0, \n",
    "                label=r\"$- \\alpha * \\beta * R^{\\beta - 1}$\",\n",
    "            )\n",
    "\n",
    "    plt.legend()\n",
    "    plt.xlim(1e2, 4e4)\n",
    "    plt.xticks([])\n",
    "    plt.yticks([])\n",
    "    plt.title(f\"H. Slope - Codificação {iterations}\")\n",
    "    plt.yscale(\"log\")\n",
    "    plt.xlabel(r\"Multiplicador Lagrangiano ($\\lambda$)\")\n",
    "    plt.ylabel(\"Taxa (bpp)\")\n",
    "    # plt.tight_layout()\n",
    "    plt.savefig(f\"figuras/example_iterations/hslope_iteration_{iterations}.png\", dpi=300)\n",
    "    plt.savefig(f\"figuras/example_iterations/hslope_iteration_{iterations}.pdf\")\n",
    "    plt.show()\n",
    "\n",
    "\n",
    "interact(hslope, target_rate=(0.01, 0.1, 0.01), iterations=(1, 10))"
   ]
  },
  {
   "cell_type": "code",
   "execution_count": 49,
   "metadata": {},
   "outputs": [
    {
     "data": {
      "image/png": "[encoded data removed]",
      "text/plain": [
       "<Figure size 640x480 with 1 Axes>"
      ]
     },
     "metadata": {},
     "output_type": "display_data"
    },
    {
     "data": {
      "image/png": "[encoded data removed]",
      "text/plain": [
       "<Figure size 640x480 with 1 Axes>"
      ]
     },
     "metadata": {},
     "output_type": "display_data"
    },
    {
     "data": {
      "image/png": "[encoded data removed]",
      "text/plain": [
       "<Figure size 640x480 with 1 Axes>"
      ]
     },
     "metadata": {},
     "output_type": "display_data"
    },
    {
     "data": {
      "image/png": "[encoded data removed]",
      "text/plain": [
       "<Figure size 640x480 with 1 Axes>"
      ]
     },
     "metadata": {},
     "output_type": "display_data"
    },
    {
     "data": {
      "image/png": "[encoded data removed]",
      "text/plain": [
       "<Figure size 640x480 with 1 Axes>"
      ]
     },
     "metadata": {},
     "output_type": "display_data"
    },
    {
     "data": {
      "image/png": "[encoded data removed]",
      "text/plain": [
       "<Figure size 640x480 with 1 Axes>"
      ]
     },
     "metadata": {},
     "output_type": "display_data"
    }
   ],
   "source": [
    "import matplotlib\n",
    "matplotlib.rcParams[\"mathtext.fontset\"] = \"cm\"\n",
    "\n",
    "\n",
    "equations = [\n",
    "    r\"$\\lambda^{new} = \\alpha * \\beta * (R^{target}) ^ {\\beta - 1}$\",\n",
    "\n",
    "    r\"$\\beta = - \\frac{\\lambda * R}{D}$\",\n",
    "\n",
    "    r\"$\\alpha = D * (R) ^ {-\\beta}$\",\n",
    "    \n",
    "    r\"$D(R) \\approx= \\alpha * R^\\beta$\",\n",
    "\n",
    "    r\"$\\lambda(R) \\approx= - \\frac{d}{dR} D(R)$\",\n",
    "\n",
    "    r\"$\\lambda(R) \\approx= - a * b * R ^ {b - 1}$\",\n",
    "]\n",
    "\n",
    "for i, equation in enumerate(equations):\n",
    "    plt.axis(\"off\")\n",
    "    plt.text(0.5, 0.5, equation, fontsize=30, horizontalalignment=\"center\", usetex=True)\n",
    "    plt.savefig(f\"figuras/equations/hslope_{i}.png\", transparent=True, dpi=300)\n",
    "    plt.show()\n"
   ]
  }
 ],
 "metadata": {
  "kernelspec": {
   "display_name": "Python 3",
   "language": "python",
   "name": "python3"
  },
  "language_info": {
   "codemirror_mode": {
    "name": "ipython",
    "version": 3
   },
   "file_extension": ".py",
   "mimetype": "text/x-python",
   "name": "python",
   "nbconvert_exporter": "python",
   "pygments_lexer": "ipython3",
   "version": "3.11.6"
  }
 },
 "nbformat": 4,
 "nbformat_minor": 2
}
